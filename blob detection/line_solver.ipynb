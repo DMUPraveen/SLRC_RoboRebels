{
 "cells": [
  {
   "cell_type": "code",
   "execution_count": 2,
   "metadata": {},
   "outputs": [],
   "source": [
    "lines =[[ 88  ,14, 228,  11],\n",
    "        [  7 ,105, 104,  45],\n",
    "        [  7 ,102, 106,  41],\n",
    "        [164 ,134, 228,  13],\n",
    "        [ 45 ,165, 143 ,104],\n",
    "        [162 ,134, 228 , 10],\n",
    "        [ 47 ,166, 142 ,107],\n",
    "        [  8 ,107,  44 ,165],\n",
    "        [  7 ,103,  45 ,163]]\n"
   ]
  },
  {
   "cell_type": "code",
   "execution_count": 8,
   "metadata": {},
   "outputs": [
    {
     "name": "stdout",
     "output_type": "stream",
     "text": [
      "[(-0.02142857142857143, 15.885714285714286), (-0.6185567010309279, 109.3298969072165), (-0.6161616161616161, 106.31313131313131), (-1.890625, 444.0625), (-0.6224489795918368, 193.01020408163265), (-1.878787878787879, 438.3636363636364), (-0.6210526315789474, 195.18947368421053), (1.6111111111111112, 94.11111111111111), (1.5789473684210527, 91.94736842105263)]\n"
     ]
    }
   ],
   "source": [
    "#get the equations\n",
    "def get_mc(points):\n",
    "    mc_list = []\n",
    "    for p in points:\n",
    "        gradient = (p[-1]-p[-3])/(p[2]-p[0])\n",
    "        c = p[1]-gradient*p[0]\n",
    "        mc_list.append((gradient, c))\n",
    "    return mc_list\n",
    "line_data = get_mc(lines)"
   ]
  },
  {
   "cell_type": "code",
   "execution_count": 11,
   "metadata": {},
   "outputs": [],
   "source": [
    "#get the points of intersection\n",
    "def find_intersection_points(lines):\n",
    "    \"\"\"Given a list of lines represented as tuples (gradient, y_intercept), returns a list of tuples representing the intersection points of those lines.\"\"\"\n",
    "    intersection_points = []\n",
    "    print(lines)\n",
    "    for i in range(len(lines)):\n",
    "        for j in range(i+1, len(lines)):\n",
    "            m1, b1 = lines[i]\n",
    "            m2, b2 = lines[j]\n",
    "            if m1 == m2:\n",
    "                continue  # lines are parallel, so no intersection\n",
    "            x = (b2 - b1) / (m1 - m2)\n",
    "            y = m1 * x + b1\n",
    "            intersection_points.append((x, y))\n",
    "    return intersection_points"
   ]
  },
  {
   "cell_type": "code",
   "execution_count": 13,
   "metadata": {},
   "outputs": [
    {
     "name": "stdout",
     "output_type": "stream",
     "text": [
      "None\n",
      "None\n"
     ]
    },
    {
     "ename": "TypeError",
     "evalue": "object of type 'NoneType' has no len()",
     "output_type": "error",
     "traceback": [
      "\u001b[1;31m---------------------------------------------------------------------------\u001b[0m",
      "\u001b[1;31mTypeError\u001b[0m                                 Traceback (most recent call last)",
      "\u001b[1;32mUntitled-1.ipynb Cell 4\u001b[0m in \u001b[0;36m2\n\u001b[0;32m      <a href='vscode-notebook-cell:Untitled-1.ipynb?jupyter-notebook#W4sdW50aXRsZWQ%3D?line=0'>1</a>\u001b[0m \u001b[39mprint\u001b[39m(line_data)\n\u001b[1;32m----> <a href='vscode-notebook-cell:Untitled-1.ipynb?jupyter-notebook#W4sdW50aXRsZWQ%3D?line=1'>2</a>\u001b[0m intersection_points \u001b[39m=\u001b[39m find_intersection_points(line_data)\n\u001b[0;32m      <a href='vscode-notebook-cell:Untitled-1.ipynb?jupyter-notebook#W4sdW50aXRsZWQ%3D?line=2'>3</a>\u001b[0m \u001b[39mprint\u001b[39m(intersection_points)\n",
      "\u001b[1;32mUntitled-1.ipynb Cell 4\u001b[0m in \u001b[0;36m6\n\u001b[0;32m      <a href='vscode-notebook-cell:Untitled-1.ipynb?jupyter-notebook#W4sdW50aXRsZWQ%3D?line=3'>4</a>\u001b[0m intersection_points \u001b[39m=\u001b[39m []\n\u001b[0;32m      <a href='vscode-notebook-cell:Untitled-1.ipynb?jupyter-notebook#W4sdW50aXRsZWQ%3D?line=4'>5</a>\u001b[0m \u001b[39mprint\u001b[39m(lines)\n\u001b[1;32m----> <a href='vscode-notebook-cell:Untitled-1.ipynb?jupyter-notebook#W4sdW50aXRsZWQ%3D?line=5'>6</a>\u001b[0m \u001b[39mfor\u001b[39;00m i \u001b[39min\u001b[39;00m \u001b[39mrange\u001b[39m(\u001b[39mlen\u001b[39;49m(lines)):\n\u001b[0;32m      <a href='vscode-notebook-cell:Untitled-1.ipynb?jupyter-notebook#W4sdW50aXRsZWQ%3D?line=6'>7</a>\u001b[0m     \u001b[39mfor\u001b[39;00m j \u001b[39min\u001b[39;00m \u001b[39mrange\u001b[39m(i\u001b[39m+\u001b[39m\u001b[39m1\u001b[39m, \u001b[39mlen\u001b[39m(lines)):\n\u001b[0;32m      <a href='vscode-notebook-cell:Untitled-1.ipynb?jupyter-notebook#W4sdW50aXRsZWQ%3D?line=7'>8</a>\u001b[0m         m1, b1 \u001b[39m=\u001b[39m lines[i]\n",
      "\u001b[1;31mTypeError\u001b[0m: object of type 'NoneType' has no len()"
     ]
    }
   ],
   "source": [
    "print(line_data)\n",
    "intersection_points = find_intersection_points(line_data)\n",
    "print(intersection_points)  "
   ]
  },
  {
   "cell_type": "code",
   "execution_count": null,
   "metadata": {},
   "outputs": [],
   "source": [
    "#get the distances to the lines"
   ]
  }
 ],
 "metadata": {
  "kernelspec": {
   "display_name": "Python 3",
   "language": "python",
   "name": "python3"
  },
  "language_info": {
   "codemirror_mode": {
    "name": "ipython",
    "version": 3
   },
   "file_extension": ".py",
   "mimetype": "text/x-python",
   "name": "python",
   "nbconvert_exporter": "python",
   "pygments_lexer": "ipython3",
   "version": "3.8.2"
  },
  "orig_nbformat": 4
 },
 "nbformat": 4,
 "nbformat_minor": 2
}
