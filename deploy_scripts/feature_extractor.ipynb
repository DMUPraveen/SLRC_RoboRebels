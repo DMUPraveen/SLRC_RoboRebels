{
 "cells": [
  {
   "cell_type": "code",
   "execution_count": 79,
   "metadata": {},
   "outputs": [],
   "source": [
    "from feature_extractor import *\n",
    "from preprocessor import *\n",
    "\n",
    "import matplotlib.pyplot as plt\n",
    "import numpy as np\n"
   ]
  },
  {
   "cell_type": "code",
   "execution_count": 80,
   "metadata": {},
   "outputs": [],
   "source": [
    "#only for ipynb\n",
    "from IPython.display import clear_output, Image, display\n",
    "import PIL.Image\n",
    "import io\n",
    "\n",
    "def showarray(a, fmt='jpeg'):\n",
    "    a = np.uint8(np.clip(a, 0, 255))\n",
    "    f = io.BytesIO()\n",
    "    PIL.Image.fromarray(a).save(f, fmt)\n",
    "    display(Image(data=f.getvalue()))"
   ]
  },
  {
   "cell_type": "code",
   "execution_count": 81,
   "metadata": {},
   "outputs": [
    {
     "data": {
      "image/jpeg": "[encoded data removed]",
      "text/plain": [
       "<IPython.core.display.Image object>"
      ]
     },
     "metadata": {},
     "output_type": "display_data"
    }
   ],
   "source": [
    "filename = 'samples/s20.jpg'\n",
    "rawImg = cv2.imread(filename, cv2.IMREAD_GRAYSCALE)\n",
    "src = np.copy(rawImg)\n",
    "showarray(src)"
   ]
  },
  {
   "cell_type": "code",
   "execution_count": 82,
   "metadata": {},
   "outputs": [
    {
     "name": "stdout",
     "output_type": "stream",
     "text": [
      "(320, 480)\n"
     ]
    },
    {
     "data": {
      "image/jpeg": "[encoded data removed]",
      "text/plain": [
       "<IPython.core.display.Image object>"
      ]
     },
     "metadata": {},
     "output_type": "display_data"
    }
   ],
   "source": [
    "otsu_thresh = applyOtsu(src)\n",
    "kSize = 25\n",
    "src = cv2.GaussianBlur(otsu_thresh,(kSize,kSize),0)\n",
    "print(src.shape)\n",
    "showarray(src)"
   ]
  },
  {
   "cell_type": "code",
   "execution_count": null,
   "metadata": {},
   "outputs": [],
   "source": []
  },
  {
   "cell_type": "code",
   "execution_count": 102,
   "metadata": {},
   "outputs": [
    {
     "data": {
      "image/jpeg": "[encoded data removed]",
      "text/plain": [
       "<IPython.core.display.Image object>"
      ]
     },
     "metadata": {},
     "output_type": "display_data"
    }
   ],
   "source": [
    "\n",
    "\n",
    "src = cv2.imread(filename, cv2.IMREAD_GRAYSCALE)\n",
    "\n",
    "#Transform source image to gray if it is not already\n",
    "if len(src.shape) != 2:\n",
    "    gray = cv2.cvtColor(src, cv2.COLOR_BGR2GRAY)\n",
    "else:\n",
    "    gray = src\n",
    "\n",
    "thresh = applyOtsu(rawImg)\n",
    "contours, hierarchy = cv2.findContours(thresh, cv2.RETR_CCOMP, cv2.CHAIN_APPROX_SIMPLE)\n",
    "hierarchy = hierarchy[0]\n",
    "\n",
    "for i, c in enumerate(contours):\n",
    "    if hierarchy[i][2] < 0 and hierarchy[i][3] < 0:\n",
    "        cv2.drawContours(src, contours, i, (0, 0, 255), 2)\n",
    "    else:\n",
    "        cv2.drawContours(src, contours, i, (0, 255, 0), 2)\n",
    "#write to the same directory\n",
    "\n",
    "# Display the image\n",
    "\n",
    "showarray(src)\n"
   ]
  },
  {
   "cell_type": "code",
   "execution_count": 84,
   "metadata": {},
   "outputs": [],
   "source": [
    "t = len(np.where(otsu_thresh>0)[0])"
   ]
  },
  {
   "cell_type": "code",
   "execution_count": 85,
   "metadata": {},
   "outputs": [
    {
     "name": "stdout",
     "output_type": "stream",
     "text": [
      "69.15 [<feature_extractor.line object at 0x00000248DF114970>, <feature_extractor.line object at 0x00000248DF1146A0>, <feature_extractor.line object at 0x00000248DF3B5280>, <feature_extractor.line object at 0x00000248DFB9C550>, <feature_extractor.line object at 0x00000248DF51ED60>, <feature_extractor.line object at 0x00000248DFB8CC40>, <feature_extractor.line object at 0x00000248DFB8CB80>, <feature_extractor.line object at 0x00000248DF3834F0>, <feature_extractor.line object at 0x00000248DFC19A60>, <feature_extractor.line object at 0x00000248DFC19790>]\n"
     ]
    },
    {
     "data": {
      "image/jpeg": "[encoded data removed]",
      "text/plain": [
       "<IPython.core.display.Image object>"
      ]
     },
     "metadata": {},
     "output_type": "display_data"
    }
   ],
   "source": [
    "\n",
    "lineCp = np.copy(otsu_thresh)\n",
    "\n",
    "li =openCV_houghlines(lineCp, int_thresh=int(0.025*t), minPoint_line=int(0.03*t), maxLine_gap=int(0.04*t))[0]\n",
    "print(0.05*t, li)\n",
    "showarray(lineCp)"
   ]
  },
  {
   "cell_type": "code",
   "execution_count": 86,
   "metadata": {},
   "outputs": [],
   "source": [
    "vertical_lines = rampVerticalHelper(li, angleThreshold=25)"
   ]
  },
  {
   "cell_type": "code",
   "execution_count": 87,
   "metadata": {},
   "outputs": [],
   "source": [
    "for line in vertical_lines:\n",
    "    line.print_()"
   ]
  },
  {
   "cell_type": "code",
   "execution_count": 88,
   "metadata": {},
   "outputs": [
    {
     "data": {
      "image/jpeg": "[encoded data removed]",
      "text/plain": [
       "<IPython.core.display.Image object>"
      ]
     },
     "metadata": {},
     "output_type": "display_data"
    }
   ],
   "source": [
    "vLineCopy = np.copy(src)\n",
    "vLineImg = cv2.cvtColor(vLineCopy, cv2.COLOR_GRAY2BGR)\n",
    "for l in vertical_lines:\n",
    "    cv2.line(vLineImg, (l.vertex1[0], src.shape[0]-l.vertex1[1]), (l.vertex2[0], src.shape[0]-l.vertex2[1]), (255,255,255), 3, cv2.LINE_AA)\n",
    "showarray(vLineImg)"
   ]
  },
  {
   "cell_type": "code",
   "execution_count": null,
   "metadata": {},
   "outputs": [],
   "source": []
  },
  {
   "cell_type": "code",
   "execution_count": 103,
   "metadata": {},
   "outputs": [
    {
     "name": "stdout",
     "output_type": "stream",
     "text": [
      "334 480 0 42\n"
     ]
    },
    {
     "data": {
      "image/jpeg": "[encoded data removed]",
      "text/plain": [
       "<IPython.core.display.Image object>"
      ]
     },
     "metadata": {},
     "output_type": "display_data"
    }
   ],
   "source": [
    "\n",
    "blobs = extract_blob(src)\n",
    "largestBlob = getLblob(blobs)\n",
    "testy1 = largestBlob.lowerY\n",
    "testy2 = largestBlob.upperY\n",
    "\n",
    "testx1 = largestBlob.lowerX\n",
    "testx2 = largestBlob.upperX\n",
    "print(testx1, testx2, testy1, testy2)\n",
    "slice = make_copy(src,0, testy2, 0, testx2)\n",
    "showarray(slice)"
   ]
  },
  {
   "cell_type": "code",
   "execution_count": 90,
   "metadata": {},
   "outputs": [],
   "source": [
    "\n",
    "#take s20\n",
    "# apply otsu\n",
    "#extract blobs\n",
    "#draw bounding rectangles\n",
    "blobs = extract_blob(src)"
   ]
  },
  {
   "cell_type": "code",
   "execution_count": 91,
   "metadata": {},
   "outputs": [],
   "source": [
    "#TODO: Make sure to differentiate between the wall and the arrow"
   ]
  },
  {
   "cell_type": "code",
   "execution_count": 92,
   "metadata": {},
   "outputs": [
    {
     "data": {
      "image/jpeg": "[encoded data removed]",
      "text/plain": [
       "<IPython.core.display.Image object>"
      ]
     },
     "metadata": {},
     "output_type": "display_data"
    }
   ],
   "source": [
    "#TODO :add to preprocessor\n",
    "cannyEdge = cv2.Canny(slice, 10, 200, None, 5)\n",
    "outline = cannyEdge \n",
    "showarray(outline)"
   ]
  },
  {
   "cell_type": "code",
   "execution_count": 93,
   "metadata": {},
   "outputs": [],
   "source": [
    "def drawLines(img, lines):\n",
    "    src = np.copy(img)\n",
    "    for i in lines:\n",
    "        cv2.line(src, (i.vertex1[0],img.shape[0]-i.vertex1[1]), (i.vertex2[0],img.shape[0]-i.vertex2[1]), (0,0,0), 3, cv2.LINE_AA)\n",
    "    return src"
   ]
  },
  {
   "cell_type": "code",
   "execution_count": 94,
   "metadata": {},
   "outputs": [
    {
     "name": "stdout",
     "output_type": "stream",
     "text": [
      "252 34 17 30\n",
      "Originally has 5 lines\n",
      "Line from (387,16) to (477,10) with gradient -0.066667, intercept 41.800000, length 90.199778, and angle -3.814075 degrees\n",
      "Line from (387,18) to (477,17) with gradient -0.011111, intercept 22.300000, length 90.005555, and angle -0.636594 degrees\n"
     ]
    },
    {
     "data": {
      "image/jpeg": "[encoded data removed]",
      "text/plain": [
       "<IPython.core.display.Image object>"
      ]
     },
     "metadata": {},
     "output_type": "display_data"
    }
   ],
   "source": [
    "cdst = np.copy(outline)\n",
    "\n",
    "error_factor = 4\n",
    "image_perimeter = np.where(cdst>0)[0].shape[0]\n",
    "minPoints_in_long_line = int(image_perimeter*float((8-error_factor)/29))\n",
    "intersection_threshold_long = int(0.5*minPoints_in_long_line)\n",
    "max_gap_lines_long = int(0.9*minPoints_in_long_line)\n",
    "\n",
    "print(image_perimeter, minPoints_in_long_line, intersection_threshold_long, max_gap_lines_long)\n",
    "stem_lines, height= openCV_houghlines(cdst, r_res=1, theta_res=np.pi/180, int_thresh=intersection_threshold_long, \\\n",
    "                                  l=None, minPoint_line=minPoints_in_long_line, maxLine_gap=max_gap_lines_long)\n",
    "\n",
    "print(\"Originally has %i lines\"%(len(stem_lines)))\n",
    "#Filter most suitable lines\n",
    "bestFitStem = removeDup_sortLen(stem_lines,0.1,10)[:2]\n",
    "for line in bestFitStem:\n",
    "    line.print_()\n",
    "showarray(cdst)\n"
   ]
  },
  {
   "cell_type": "code",
   "execution_count": 95,
   "metadata": {},
   "outputs": [
    {
     "data": {
      "image/jpeg": "[encoded data removed]",
      "text/plain": [
       "<IPython.core.display.Image object>"
      ]
     },
     "metadata": {},
     "output_type": "display_data"
    }
   ],
   "source": [
    "smImg = drawLines(outline,bestFitStem[:2])\n",
    "showarray(smImg)"
   ]
  },
  {
   "cell_type": "code",
   "execution_count": 96,
   "metadata": {},
   "outputs": [
    {
     "name": "stdout",
     "output_type": "stream",
     "text": [
      "252 8 4 7\n",
      "Originally has 4 lines\n",
      "Line from (9,11) to (36,19) with gradient 0.296296, intercept 8.333333, length 28.160256, and angle 16.504361 degrees\n",
      "Line from (176,8) to (185,8) with gradient 0.000000, intercept 8.000000, length 9.000000, and angle 0.000000 degrees\n"
     ]
    },
    {
     "data": {
      "image/png": "[encoded data removed]",
      "text/plain": [
       "<Figure size 640x480 with 1 Axes>"
      ]
     },
     "metadata": {},
     "output_type": "display_data"
    },
    {
     "data": {
      "image/jpeg": "[encoded data removed]",
      "text/plain": [
       "<IPython.core.display.Image object>"
      ]
     },
     "metadata": {},
     "output_type": "display_data"
    }
   ],
   "source": [
    "cdst = np.copy(smImg)\n",
    "\n",
    "error_factor = 4\n",
    "minPoints_in_line_short = int(image_perimeter*float((5-error_factor)/29))\n",
    "intersection_threshold_short = int(0.5*minPoints_in_line_short)\n",
    "max_gap_lines_short = int(0.9*minPoints_in_line_short)\n",
    "\n",
    "print(image_perimeter, minPoints_in_line_short, intersection_threshold_short, max_gap_lines_short)\n",
    "head_lines, height= openCV_houghlines(cdst, r_res=1, theta_res=np.pi/180, int_thresh=intersection_threshold_short, \\\n",
    "                                  l=None, minPoint_line=minPoints_in_line_short, maxLine_gap=max_gap_lines_short)\n",
    "\n",
    "print(\"Originally has %i lines\"%(len(head_lines)))\n",
    "#Filter most suitable lines\n",
    "bestFitHead = removeDup_sortLen(head_lines,0.1,10)\n",
    "\n",
    "for line in bestFitHead:\n",
    "    line.print_()\n",
    "plt.imshow(cdst)\n",
    "plt.show()\n",
    "showarray(cdst)"
   ]
  },
  {
   "cell_type": "code",
   "execution_count": 97,
   "metadata": {},
   "outputs": [
    {
     "name": "stdout",
     "output_type": "stream",
     "text": [
      "725.0248272083414 905.1789880434899\n",
      "B (array([477,  10], dtype=int32), array([387,  16], dtype=int32))\n",
      "356.18592516570965\n",
      "725.0027586206896 905.0088397466264\n",
      "B (array([477,  17], dtype=int32), array([387,  18], dtype=int32))\n",
      "359.3634064240365\n"
     ]
    }
   ],
   "source": [
    "ps = np.where(cdst>0)\n",
    "\n",
    "for sLine in bestFitStem:\n",
    "    vertex1_score = 0\n",
    "    vertex2_score = 0\n",
    "    for p_ in range(len(ps)):\n",
    "        point = np.array([ps[1][p_],height-ps[0][p_]])\n",
    "        vertex1_score += np.linalg.norm(sLine.vertex1-point)\n",
    "        vertex2_score += np.linalg.norm(sLine.vertex2-point)\n",
    "    print(vertex1_score, vertex2_score)\n",
    "    if vertex1_score>vertex2_score:\n",
    "        print('A',(sLine.vertex1,sLine.vertex2))\n",
    "        b = bearing(sLine.vertex2[0],sLine.vertex2[1],sLine.vertex1[0],sLine.vertex1[1])\n",
    "    else:\n",
    "        print('B', (sLine.vertex2,sLine.vertex1))\n",
    "        b = bearing(sLine.vertex1[0], sLine.vertex1[1],sLine.vertex2[0],sLine.vertex2[1])\n",
    "    print(b)\n"
   ]
  },
  {
   "cell_type": "code",
   "execution_count": 98,
   "metadata": {},
   "outputs": [
    {
     "data": {
      "text/plain": [
       "48.91315952498741"
      ]
     },
     "execution_count": 98,
     "metadata": {},
     "output_type": "execute_result"
    }
   ],
   "source": [
    "bearing(21,47,164,211)"
   ]
  },
  {
   "attachments": {},
   "cell_type": "markdown",
   "metadata": {},
   "source": [
    "Long Lines Here"
   ]
  },
  {
   "attachments": {},
   "cell_type": "markdown",
   "metadata": {},
   "source": [
    "cdst = np.copy(outline)\n",
    "\n",
    "lines_points , height= openCV_houghlines(cdst, r_res=1, theta_res=np.pi/180, int_thresh=60, l=None, minPoint_line=20, maxLine_gap=150)\n",
    "#print(lines_points)\n",
    "lines_Eqns = get_lines(lines_points)\n",
    "print(\"lines detected: \", len(lines_points))\n",
    "showarray(cdst)"
   ]
  },
  {
   "attachments": {},
   "cell_type": "markdown",
   "metadata": {},
   "source": [
    "Debug the short line distances here"
   ]
  },
  {
   "cell_type": "code",
   "execution_count": 99,
   "metadata": {},
   "outputs": [],
   "source": [
    "\n",
    "for i in range(len(bestFitHead)):\n",
    "    for j in range(i+1, len(bestFitHead)):\n",
    "        x = intersects(cdst.shape, bestFitHead[i], bestFitHead[j])\n",
    "        if x[0]==True:\n",
    "            bestFitHead[i].print_()            \n",
    "            bestFitHead[j].print_()\n",
    "            vertex = x[1]"
   ]
  },
  {
   "cell_type": "code",
   "execution_count": 100,
   "metadata": {},
   "outputs": [
    {
     "name": "stdout",
     "output_type": "stream",
     "text": [
      "[432.    15.25]\n"
     ]
    },
    {
     "ename": "NameError",
     "evalue": "name 'vertex' is not defined",
     "output_type": "error",
     "traceback": [
      "\u001b[1;31m---------------------------------------------------------------------------\u001b[0m",
      "\u001b[1;31mNameError\u001b[0m                                 Traceback (most recent call last)",
      "\u001b[1;32me:\\DEEE\\4th SEM\\SLRC 23\\root\\deploy_scripts\\feature_extractor.ipynb Cell 27\u001b[0m in \u001b[0;36m3\n\u001b[0;32m      <a href='vscode-notebook-cell:/e%3A/DEEE/4th%20SEM/SLRC%2023/root/deploy_scripts/feature_extractor.ipynb#X23sZmlsZQ%3D%3D?line=0'>1</a>\u001b[0m midpoint \u001b[39m=\u001b[39m (bestFitStem[\u001b[39m0\u001b[39m]\u001b[39m.\u001b[39mget_midpoint()\u001b[39m+\u001b[39mbestFitStem[\u001b[39m1\u001b[39m]\u001b[39m.\u001b[39mget_midpoint())\u001b[39m/\u001b[39m\u001b[39m2\u001b[39m\n\u001b[0;32m      <a href='vscode-notebook-cell:/e%3A/DEEE/4th%20SEM/SLRC%2023/root/deploy_scripts/feature_extractor.ipynb#X23sZmlsZQ%3D%3D?line=1'>2</a>\u001b[0m \u001b[39mprint\u001b[39m(midpoint)\n\u001b[1;32m----> <a href='vscode-notebook-cell:/e%3A/DEEE/4th%20SEM/SLRC%2023/root/deploy_scripts/feature_extractor.ipynb#X23sZmlsZQ%3D%3D?line=2'>3</a>\u001b[0m \u001b[39mprint\u001b[39m(bearing(midpoint[\u001b[39m0\u001b[39m],midpoint[\u001b[39m1\u001b[39m],vertex[\u001b[39m0\u001b[39m],vertex[\u001b[39m1\u001b[39m]))\n",
      "\u001b[1;31mNameError\u001b[0m: name 'vertex' is not defined"
     ]
    }
   ],
   "source": [
    "midpoint = (bestFitStem[0].get_midpoint()+bestFitStem[1].get_midpoint())/2\n",
    "print(midpoint)\n",
    "print(bearing(midpoint[0],midpoint[1],vertex[0],vertex[1]))"
   ]
  },
  {
   "cell_type": "code",
   "execution_count": null,
   "metadata": {},
   "outputs": [
    {
     "data": {
      "image/png": "[encoded data removed]",
      "text/plain": [
       "<Figure size 640x480 with 1 Axes>"
      ]
     },
     "metadata": {},
     "output_type": "display_data"
    }
   ],
   "source": [
    "import matplotlib.pyplot as plt\n",
    "import numpy as np\n",
    "\n",
    "\n",
    "\n",
    "x_points=  list(ps[1])\n",
    "y_points = list(height-ps[0])\n",
    "\n",
    "plt.scatter(x_points, y_points, color='blue')\n",
    "\n",
    "x_points = []\n",
    "y_points = []\n",
    "\n",
    "for l in bestFitHead:\n",
    "    x_points.append(l.vertex1[0])\n",
    "    x_points.append(l.vertex2[0])\n",
    "    y_points.append(l.vertex1[1])\n",
    "    y_points.append(l.vertex2[1])\n",
    "\n",
    "plt.scatter(x_points, y_points, color='red')\n",
    "\n",
    "x = np.linspace(0, 300, 100)\n",
    "\n",
    "for l in bestFitHead:\n",
    "    y = l.get_gradient() * x + l.get_intercept()\n",
    "    plt.plot(x,y)\n",
    "\n",
    "\n",
    "# plt.ylim(-30,height)\n",
    "# plt.xlim(0,400)\n",
    "plt.xlabel('X-axis')\n",
    "plt.ylabel('Y-axis')\n",
    "plt.title('Graph of lines')\n",
    "plt.show()\n"
   ]
  }
 ],
 "metadata": {
  "kernelspec": {
   "display_name": "Python 3",
   "language": "python",
   "name": "python3"
  },
  "language_info": {
   "codemirror_mode": {
    "name": "ipython",
    "version": 3
   },
   "file_extension": ".py",
   "mimetype": "text/x-python",
   "name": "python",
   "nbconvert_exporter": "python",
   "pygments_lexer": "ipython3",
   "version": "3.8.2"
  },
  "orig_nbformat": 4
 },
 "nbformat": 4,
 "nbformat_minor": 2
}
