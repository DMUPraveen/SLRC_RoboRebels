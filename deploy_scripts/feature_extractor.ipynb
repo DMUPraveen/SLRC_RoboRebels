{
 "cells": [
  {
   "cell_type": "code",
   "execution_count": 1,
   "metadata": {},
   "outputs": [],
   "source": [
    "from feature_extractor import *\n",
    "from preprocessor import *\n",
    "\n",
    "import matplotlib.pyplot as plt\n",
    "import numpy as np\n"
   ]
  },
  {
   "cell_type": "code",
   "execution_count": 2,
   "metadata": {},
   "outputs": [],
   "source": [
    "#only for ipynb\n",
    "from IPython.display import clear_output, Image, display\n",
    "import PIL.Image\n",
    "import io\n",
    "\n",
    "def showarray(a, fmt='jpeg'):\n",
    "    a = np.uint8(np.clip(a, 0, 255))\n",
    "    f = io.BytesIO()\n",
    "    PIL.Image.fromarray(a).save(f, fmt)\n",
    "    display(Image(data=f.getvalue()))"
   ]
  },
  {
   "cell_type": "code",
   "execution_count": 44,
   "metadata": {},
   "outputs": [
    {
     "data": {
      "image/jpeg": "[encoded data removed]",
      "text/plain": [
       "<IPython.core.display.Image object>"
      ]
     },
     "metadata": {},
     "output_type": "display_data"
    }
   ],
   "source": [
    "filename = 'samples/s8.jpg'\n",
    "src = cv2.imread(filename, cv2.IMREAD_GRAYSCALE)\n",
    "showarray(src)"
   ]
  },
  {
   "cell_type": "code",
   "execution_count": 45,
   "metadata": {},
   "outputs": [
    {
     "data": {
      "image/jpeg": "[encoded data removed]",
      "text/plain": [
       "<IPython.core.display.Image object>"
      ]
     },
     "metadata": {},
     "output_type": "display_data"
    }
   ],
   "source": [
    "otsu_thresh = applyOtsu(src)\n",
    "kSize = 25\n",
    "src = cv2.GaussianBlur(otsu_thresh,(kSize,kSize),0)\n",
    "showarray(src)"
   ]
  },
  {
   "cell_type": "code",
   "execution_count": 47,
   "metadata": {},
   "outputs": [
    {
     "ename": "SystemError",
     "evalue": "tile cannot extend outside image",
     "output_type": "error",
     "traceback": [
      "\u001b[1;31m---------------------------------------------------------------------------\u001b[0m",
      "\u001b[1;31mUnsupportedOperation\u001b[0m                      Traceback (most recent call last)",
      "File \u001b[1;32mc:\\Python38\\lib\\site-packages\\PIL\\ImageFile.py:496\u001b[0m, in \u001b[0;36m_save\u001b[1;34m(im, fp, tile, bufsize)\u001b[0m\n\u001b[0;32m    495\u001b[0m \u001b[39mtry\u001b[39;00m:\n\u001b[1;32m--> 496\u001b[0m     fh \u001b[39m=\u001b[39m fp\u001b[39m.\u001b[39;49mfileno()\n\u001b[0;32m    497\u001b[0m     fp\u001b[39m.\u001b[39mflush()\n",
      "\u001b[1;31mUnsupportedOperation\u001b[0m: fileno",
      "\nDuring handling of the above exception, another exception occurred:\n",
      "\u001b[1;31mSystemError\u001b[0m                               Traceback (most recent call last)",
      "\u001b[1;32me:\\DEEE\\4th SEM\\SLRC 23\\root\\deploy_scripts\\feature_extractor.ipynb Cell 5\u001b[0m in \u001b[0;36m1\n\u001b[0;32m      <a href='vscode-notebook-cell:/e%3A/DEEE/4th%20SEM/SLRC%2023/root/deploy_scripts/feature_extractor.ipynb#W4sZmlsZQ%3D%3D?line=7'>8</a>\u001b[0m \u001b[39m#print(testx1, testx2, testy1, testy2)\u001b[39;00m\n\u001b[0;32m      <a href='vscode-notebook-cell:/e%3A/DEEE/4th%20SEM/SLRC%2023/root/deploy_scripts/feature_extractor.ipynb#W4sZmlsZQ%3D%3D?line=8'>9</a>\u001b[0m \u001b[39mslice\u001b[39m \u001b[39m=\u001b[39m make_copy(src,testy1, testy2, testx1, testx2)\n\u001b[1;32m---> <a href='vscode-notebook-cell:/e%3A/DEEE/4th%20SEM/SLRC%2023/root/deploy_scripts/feature_extractor.ipynb#W4sZmlsZQ%3D%3D?line=9'>10</a>\u001b[0m showarray(\u001b[39mslice\u001b[39m)\n",
      "\u001b[1;32me:\\DEEE\\4th SEM\\SLRC 23\\root\\deploy_scripts\\feature_extractor.ipynb Cell 5\u001b[0m in \u001b[0;36m9\n\u001b[0;32m      <a href='vscode-notebook-cell:/e%3A/DEEE/4th%20SEM/SLRC%2023/root/deploy_scripts/feature_extractor.ipynb#W4sZmlsZQ%3D%3D?line=6'>7</a>\u001b[0m a \u001b[39m=\u001b[39m np\u001b[39m.\u001b[39muint8(np\u001b[39m.\u001b[39mclip(a, \u001b[39m0\u001b[39m, \u001b[39m255\u001b[39m))\n\u001b[0;32m      <a href='vscode-notebook-cell:/e%3A/DEEE/4th%20SEM/SLRC%2023/root/deploy_scripts/feature_extractor.ipynb#W4sZmlsZQ%3D%3D?line=7'>8</a>\u001b[0m f \u001b[39m=\u001b[39m io\u001b[39m.\u001b[39mBytesIO()\n\u001b[1;32m----> <a href='vscode-notebook-cell:/e%3A/DEEE/4th%20SEM/SLRC%2023/root/deploy_scripts/feature_extractor.ipynb#W4sZmlsZQ%3D%3D?line=8'>9</a>\u001b[0m PIL\u001b[39m.\u001b[39;49mImage\u001b[39m.\u001b[39;49mfromarray(a)\u001b[39m.\u001b[39;49msave(f, fmt)\n\u001b[0;32m     <a href='vscode-notebook-cell:/e%3A/DEEE/4th%20SEM/SLRC%2023/root/deploy_scripts/feature_extractor.ipynb#W4sZmlsZQ%3D%3D?line=9'>10</a>\u001b[0m display(Image(data\u001b[39m=\u001b[39mf\u001b[39m.\u001b[39mgetvalue()))\n",
      "File \u001b[1;32mc:\\Python38\\lib\\site-packages\\PIL\\Image.py:2134\u001b[0m, in \u001b[0;36mImage.save\u001b[1;34m(self, fp, format, **params)\u001b[0m\n\u001b[0;32m   2131\u001b[0m         fp \u001b[39m=\u001b[39m builtins\u001b[39m.\u001b[39mopen(filename, \u001b[39m\"\u001b[39m\u001b[39mw+b\u001b[39m\u001b[39m\"\u001b[39m)\n\u001b[0;32m   2133\u001b[0m \u001b[39mtry\u001b[39;00m:\n\u001b[1;32m-> 2134\u001b[0m     save_handler(\u001b[39mself\u001b[39;49m, fp, filename)\n\u001b[0;32m   2135\u001b[0m \u001b[39mfinally\u001b[39;00m:\n\u001b[0;32m   2136\u001b[0m     \u001b[39m# do what we can to clean up\u001b[39;00m\n\u001b[0;32m   2137\u001b[0m     \u001b[39mif\u001b[39;00m open_fp:\n",
      "File \u001b[1;32mc:\\Python38\\lib\\site-packages\\PIL\\JpegImagePlugin.py:763\u001b[0m, in \u001b[0;36m_save\u001b[1;34m(im, fp, filename)\u001b[0m\n\u001b[0;32m    759\u001b[0m \u001b[39m# The EXIF info needs to be written as one block, + APP1, + one spare byte.\u001b[39;00m\n\u001b[0;32m    760\u001b[0m \u001b[39m# Ensure that our buffer is big enough. Same with the icc_profile block.\u001b[39;00m\n\u001b[0;32m    761\u001b[0m bufsize \u001b[39m=\u001b[39m \u001b[39mmax\u001b[39m(ImageFile\u001b[39m.\u001b[39mMAXBLOCK, bufsize, \u001b[39mlen\u001b[39m(exif) \u001b[39m+\u001b[39m \u001b[39m5\u001b[39m, \u001b[39mlen\u001b[39m(extra) \u001b[39m+\u001b[39m \u001b[39m1\u001b[39m)\n\u001b[1;32m--> 763\u001b[0m ImageFile\u001b[39m.\u001b[39;49m_save(im, fp, [(\u001b[39m\"\u001b[39;49m\u001b[39mjpeg\u001b[39;49m\u001b[39m\"\u001b[39;49m, (\u001b[39m0\u001b[39;49m, \u001b[39m0\u001b[39;49m) \u001b[39m+\u001b[39;49m im\u001b[39m.\u001b[39;49msize, \u001b[39m0\u001b[39;49m, rawmode)], bufsize)\n",
      "File \u001b[1;32mc:\\Python38\\lib\\site-packages\\PIL\\ImageFile.py:504\u001b[0m, in \u001b[0;36m_save\u001b[1;34m(im, fp, tile, bufsize)\u001b[0m\n\u001b[0;32m    502\u001b[0m \u001b[39mif\u001b[39;00m o \u001b[39m>\u001b[39m \u001b[39m0\u001b[39m:\n\u001b[0;32m    503\u001b[0m     fp\u001b[39m.\u001b[39mseek(o)\n\u001b[1;32m--> 504\u001b[0m e\u001b[39m.\u001b[39;49msetimage(im\u001b[39m.\u001b[39;49mim, b)\n\u001b[0;32m    505\u001b[0m \u001b[39mif\u001b[39;00m e\u001b[39m.\u001b[39mpushes_fd:\n\u001b[0;32m    506\u001b[0m     e\u001b[39m.\u001b[39msetfd(fp)\n",
      "\u001b[1;31mSystemError\u001b[0m: tile cannot extend outside image"
     ]
    }
   ],
   "source": [
    "\n",
    "blobs = extract_blob(src)\n",
    "largestBlob = getLblob(blobs)\n",
    "testy1 = largestBlob.lowerY\n",
    "testy2 = largestBlob.upperY\n",
    "\n",
    "testx1 = largestBlob.lowerX\n",
    "testx2 = largestBlob.upperX\n",
    "#print(testx1, testx2, testy1, testy2)\n",
    "slice = make_copy(src,testy1, testy2, testx1, testx2)\n",
    "showarray(slice)"
   ]
  },
  {
   "cell_type": "code",
   "execution_count": null,
   "metadata": {},
   "outputs": [],
   "source": [
    "#TODO: Make sure to differentiate between the wall and the arrow"
   ]
  },
  {
   "cell_type": "code",
   "execution_count": null,
   "metadata": {},
   "outputs": [
    {
     "data": {
      "image/jpeg": "[encoded data removed]",
      "text/plain": [
       "<IPython.core.display.Image object>"
      ]
     },
     "metadata": {},
     "output_type": "display_data"
    }
   ],
   "source": [
    "#TODO :add to preprocessor\n",
    "cannyEdge = cv2.Canny(slice, 50, 200, None, 3)\n",
    "outline = cannyEdge \n",
    "showarray(outline)"
   ]
  },
  {
   "cell_type": "code",
   "execution_count": null,
   "metadata": {},
   "outputs": [],
   "source": [
    "def drawLines(img, lines):\n",
    "    src = np.copy(img)\n",
    "    for i in lines:\n",
    "        cv2.line(src, (i.vertex1[0],img.shape[0]-i.vertex1[1]), (i.vertex2[0],img.shape[0]-i.vertex2[1]), (0,0,0), 3, cv2.LINE_AA)\n",
    "    return src"
   ]
  },
  {
   "cell_type": "code",
   "execution_count": null,
   "metadata": {},
   "outputs": [
    {
     "name": "stdout",
     "output_type": "stream",
     "text": [
      "308 42 21 37\n",
      "Originally has 4 lines\n",
      "Line from (16,70) to (104,16) with gradenit -0.613636 , intercept 79.818182 and length 103.247276\n",
      "Line from (35,79) to (119,27) with gradenit -0.619048 , intercept 100.666667 and length 98.792712\n"
     ]
    },
    {
     "data": {
      "image/jpeg": "[encoded data removed]",
      "text/plain": [
       "<IPython.core.display.Image object>"
      ]
     },
     "metadata": {},
     "output_type": "display_data"
    }
   ],
   "source": [
    "cdst = np.copy(outline)\n",
    "\n",
    "error_factor = 4\n",
    "image_perimeter = np.where(cdst>0)[0].shape[0]\n",
    "minPoints_in_long_line = int(image_perimeter*float((8-error_factor)/29))\n",
    "intersection_threshold_long = int(0.5*minPoints_in_long_line)\n",
    "max_gap_lines_long = int(0.9*minPoints_in_long_line)\n",
    "\n",
    "print(image_perimeter, minPoints_in_long_line, intersection_threshold_long, max_gap_lines_long)\n",
    "stem_lines, height= openCV_houghlines(cdst, r_res=1, theta_res=np.pi/180, int_thresh=intersection_threshold_long, \\\n",
    "                                  l=None, minPoint_line=minPoints_in_long_line, maxLine_gap=max_gap_lines_long)\n",
    "\n",
    "print(\"Originally has %i lines\"%(len(stem_lines)))\n",
    "#Filter most suitable lines\n",
    "bestFitStem = removeDup_sortLen(stem_lines,0.1,10)[:2]\n",
    "for line in bestFitStem:\n",
    "    line.print_()\n",
    "showarray(cdst)\n"
   ]
  },
  {
   "cell_type": "code",
   "execution_count": null,
   "metadata": {},
   "outputs": [
    {
     "data": {
      "image/jpeg": "[encoded data removed]",
      "text/plain": [
       "<IPython.core.display.Image object>"
      ]
     },
     "metadata": {},
     "output_type": "display_data"
    }
   ],
   "source": [
    "smImg = drawLines(outline,bestFitStem[:2])\n",
    "showarray(smImg)"
   ]
  },
  {
   "cell_type": "code",
   "execution_count": null,
   "metadata": {},
   "outputs": [
    {
     "name": "stdout",
     "output_type": "stream",
     "text": [
      "308 10 5 9\n",
      "Originally has 2 lines\n",
      "Line from (20,83) to (32,80) with gradenit -0.250000 , intercept 88.000000 and length 12.369317\n",
      "Line from (107,16) to (117,21) with gradenit 0.500000 , intercept -37.500000 and length 11.180340\n"
     ]
    },
    {
     "data": {
      "image/png": "[encoded data removed]",
      "text/plain": [
       "<Figure size 640x480 with 1 Axes>"
      ]
     },
     "metadata": {},
     "output_type": "display_data"
    },
    {
     "data": {
      "image/jpeg": "[encoded data removed]",
      "text/plain": [
       "<IPython.core.display.Image object>"
      ]
     },
     "metadata": {},
     "output_type": "display_data"
    }
   ],
   "source": [
    "cdst = np.copy(smImg)\n",
    "\n",
    "error_factor = 4\n",
    "minPoints_in_line_short = int(image_perimeter*float((5-error_factor)/29))\n",
    "intersection_threshold_short = int(0.5*minPoints_in_line_short)\n",
    "max_gap_lines_short = int(0.9*minPoints_in_line_short)\n",
    "\n",
    "print(image_perimeter, minPoints_in_line_short, intersection_threshold_short, max_gap_lines_short)\n",
    "head_lines, height= openCV_houghlines(cdst, r_res=1, theta_res=np.pi/180, int_thresh=intersection_threshold_short, \\\n",
    "                                  l=None, minPoint_line=minPoints_in_line_short, maxLine_gap=max_gap_lines_short)\n",
    "\n",
    "print(\"Originally has %i lines\"%(len(head_lines)))\n",
    "#Filter most suitable lines\n",
    "bestFitHead = removeDup_sortLen(head_lines,0.1,10)\n",
    "\n",
    "for line in bestFitHead:\n",
    "    line.print_()\n",
    "plt.imshow(cdst)\n",
    "plt.show()\n",
    "showarray(cdst)"
   ]
  },
  {
   "cell_type": "code",
   "execution_count": null,
   "metadata": {},
   "outputs": [
    {
     "name": "stdout",
     "output_type": "stream",
     "text": [
      "33.25547711671085 217.92065696546962\n",
      "B (array([104,  16], dtype=int32), array([16, 70], dtype=int32))\n",
      "328.4652080948117\n",
      "32.20542119974537 229.6372444767316\n",
      "B (array([119,  27], dtype=int32), array([35, 79], dtype=int32))\n",
      "328.2405199151872\n"
     ]
    }
   ],
   "source": [
    "ps = np.where(cdst>0)\n",
    "\n",
    "for sLine in bestFitStem:\n",
    "    vertex1_score = 0\n",
    "    vertex2_score = 0\n",
    "    for p_ in range(len(ps)):\n",
    "        point = np.array([ps[1][p_],height-ps[0][p_]])\n",
    "        vertex1_score += np.linalg.norm(sLine.vertex1-point)\n",
    "        vertex2_score += np.linalg.norm(sLine.vertex2-point)\n",
    "    print(vertex1_score, vertex2_score)\n",
    "    if vertex1_score>vertex2_score:\n",
    "        print('A',(sLine.vertex1,sLine.vertex2))\n",
    "        b = bearing(sLine.vertex2[0],sLine.vertex2[1],sLine.vertex1[0],sLine.vertex1[1])\n",
    "    else:\n",
    "        print('B', (sLine.vertex2,sLine.vertex1))\n",
    "        b = bearing(sLine.vertex1[0], sLine.vertex1[1],sLine.vertex2[0],sLine.vertex2[1])\n",
    "    print(b)\n"
   ]
  },
  {
   "cell_type": "code",
   "execution_count": null,
   "metadata": {},
   "outputs": [
    {
     "data": {
      "text/plain": [
       "48.91315952498741"
      ]
     },
     "execution_count": 41,
     "metadata": {},
     "output_type": "execute_result"
    }
   ],
   "source": [
    "bearing(21,47,164,211)"
   ]
  },
  {
   "attachments": {},
   "cell_type": "markdown",
   "metadata": {},
   "source": [
    "Long Lines Here"
   ]
  },
  {
   "attachments": {},
   "cell_type": "markdown",
   "metadata": {},
   "source": [
    "cdst = np.copy(outline)\n",
    "\n",
    "lines_points , height= openCV_houghlines(cdst, r_res=1, theta_res=np.pi/180, int_thresh=60, l=None, minPoint_line=20, maxLine_gap=150)\n",
    "#print(lines_points)\n",
    "lines_Eqns = get_lines(lines_points)\n",
    "print(\"lines detected: \", len(lines_points))\n",
    "showarray(cdst)"
   ]
  },
  {
   "attachments": {},
   "cell_type": "markdown",
   "metadata": {},
   "source": [
    "Debug the short line distances here"
   ]
  },
  {
   "cell_type": "code",
   "execution_count": null,
   "metadata": {},
   "outputs": [],
   "source": [
    "\n",
    "for i in range(len(bestFitHead)):\n",
    "    for j in range(i+1, len(bestFitHead)):\n",
    "        x = intersects(cdst.shape, bestFitHead[i], bestFitHead[j])\n",
    "        if x[0]==True:\n",
    "            bestFitHead[i].print_()            \n",
    "            bestFitHead[j].print_()\n",
    "            vertex = x[1]"
   ]
  },
  {
   "cell_type": "code",
   "execution_count": null,
   "metadata": {},
   "outputs": [
    {
     "name": "stdout",
     "output_type": "stream",
     "text": [
      "[68.5 48. ]\n"
     ]
    },
    {
     "ename": "NameError",
     "evalue": "name 'vertex' is not defined",
     "output_type": "error",
     "traceback": [
      "\u001b[1;31m---------------------------------------------------------------------------\u001b[0m",
      "\u001b[1;31mNameError\u001b[0m                                 Traceback (most recent call last)",
      "\u001b[1;32me:\\DEEE\\4th SEM\\SLRC 23\\root\\deploy_scripts\\feature_extractor.ipynb Cell 18\u001b[0m in \u001b[0;36m3\n\u001b[0;32m      <a href='vscode-notebook-cell:/e%3A/DEEE/4th%20SEM/SLRC%2023/root/deploy_scripts/feature_extractor.ipynb#X23sZmlsZQ%3D%3D?line=0'>1</a>\u001b[0m midpoint \u001b[39m=\u001b[39m (bestFitStem[\u001b[39m0\u001b[39m]\u001b[39m.\u001b[39mget_midpoint()\u001b[39m+\u001b[39mbestFitStem[\u001b[39m1\u001b[39m]\u001b[39m.\u001b[39mget_midpoint())\u001b[39m/\u001b[39m\u001b[39m2\u001b[39m\n\u001b[0;32m      <a href='vscode-notebook-cell:/e%3A/DEEE/4th%20SEM/SLRC%2023/root/deploy_scripts/feature_extractor.ipynb#X23sZmlsZQ%3D%3D?line=1'>2</a>\u001b[0m \u001b[39mprint\u001b[39m(midpoint)\n\u001b[1;32m----> <a href='vscode-notebook-cell:/e%3A/DEEE/4th%20SEM/SLRC%2023/root/deploy_scripts/feature_extractor.ipynb#X23sZmlsZQ%3D%3D?line=2'>3</a>\u001b[0m \u001b[39mprint\u001b[39m(bearing(midpoint[\u001b[39m0\u001b[39m],midpoint[\u001b[39m1\u001b[39m],vertex[\u001b[39m0\u001b[39m],vertex[\u001b[39m1\u001b[39m]))\n",
      "\u001b[1;31mNameError\u001b[0m: name 'vertex' is not defined"
     ]
    }
   ],
   "source": [
    "midpoint = (bestFitStem[0].get_midpoint()+bestFitStem[1].get_midpoint())/2\n",
    "print(midpoint)\n",
    "print(bearing(midpoint[0],midpoint[1],vertex[0],vertex[1]))"
   ]
  },
  {
   "cell_type": "code",
   "execution_count": null,
   "metadata": {},
   "outputs": [
    {
     "data": {
      "image/png": "[encoded data removed]",
      "text/plain": [
       "<Figure size 640x480 with 1 Axes>"
      ]
     },
     "metadata": {},
     "output_type": "display_data"
    }
   ],
   "source": [
    "import matplotlib.pyplot as plt\n",
    "import numpy as np\n",
    "\n",
    "\n",
    "\n",
    "x_points=  list(ps[1])\n",
    "y_points = list(height-ps[0])\n",
    "\n",
    "plt.scatter(x_points, y_points, color='blue')\n",
    "\n",
    "x_points = []\n",
    "y_points = []\n",
    "\n",
    "for l in bestFitHead:\n",
    "    x_points.append(l.vertex1[0])\n",
    "    x_points.append(l.vertex2[0])\n",
    "    y_points.append(l.vertex1[1])\n",
    "    y_points.append(l.vertex2[1])\n",
    "\n",
    "plt.scatter(x_points, y_points, color='red')\n",
    "\n",
    "x = np.linspace(0, 300, 100)\n",
    "\n",
    "for l in bestFitHead:\n",
    "    y = l.get_gradient() * x + l.get_intercept()\n",
    "    plt.plot(x,y)\n",
    "\n",
    "\n",
    "# plt.ylim(-30,height)\n",
    "# plt.xlim(0,400)\n",
    "plt.xlabel('X-axis')\n",
    "plt.ylabel('Y-axis')\n",
    "plt.title('Graph of lines')\n",
    "plt.show()\n"
   ]
  }
 ],
 "metadata": {
  "kernelspec": {
   "display_name": "Python 3",
   "language": "python",
   "name": "python3"
  },
  "language_info": {
   "codemirror_mode": {
    "name": "ipython",
    "version": 3
   },
   "file_extension": ".py",
   "mimetype": "text/x-python",
   "name": "python",
   "nbconvert_exporter": "python",
   "pygments_lexer": "ipython3",
   "version": "3.8.2"
  },
  "orig_nbformat": 4
 },
 "nbformat": 4,
 "nbformat_minor": 2
}
