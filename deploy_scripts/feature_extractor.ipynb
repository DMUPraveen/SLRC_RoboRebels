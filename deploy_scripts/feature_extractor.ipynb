{
 "cells": [
  {
   "cell_type": "code",
   "execution_count": 21,
   "metadata": {},
   "outputs": [],
   "source": [
    "from feature_extractor import *\n",
    "from preprocessor import *\n",
    "\n",
    "import matplotlib.pyplot as plt\n",
    "import numpy as np\n"
   ]
  },
  {
   "cell_type": "code",
   "execution_count": 22,
   "metadata": {},
   "outputs": [],
   "source": [
    "#only for ipynb\n",
    "from IPython.display import clear_output, Image, display\n",
    "import PIL.Image\n",
    "import io\n",
    "\n",
    "def showarray(a, fmt='jpeg'):\n",
    "    a = np.uint8(np.clip(a, 0, 255))\n",
    "    f = io.BytesIO()\n",
    "    PIL.Image.fromarray(a).save(f, fmt)\n",
    "    display(Image(data=f.getvalue()))"
   ]
  },
  {
   "cell_type": "code",
   "execution_count": 23,
   "metadata": {},
   "outputs": [],
   "source": [
    "\n",
    "\n",
    "filename = 's1.jpg'\n",
    "src = cv2.imread(filename, cv2.IMREAD_GRAYSCALE)\n"
   ]
  },
  {
   "cell_type": "code",
   "execution_count": 24,
   "metadata": {},
   "outputs": [],
   "source": [
    "\n",
    "otsu_thresh = applyOtsu(src)\n",
    "src = otsu_thresh\n",
    "\n",
    "blobs = extract_blob(src)\n",
    "largestBlob = getLblob(blobs)\n",
    "testy1 = largestBlob.lowerY\n",
    "testy2 = largestBlob.upperY\n",
    "\n",
    "testx1 = largestBlob.lowerX\n",
    "testx2 = largestBlob.upperX\n",
    "#print(testx1, testx2, testy1, testy2)\n",
    "slice = make_copy(src,testy1, testy2, testx1, testx2)"
   ]
  },
  {
   "cell_type": "code",
   "execution_count": 25,
   "metadata": {},
   "outputs": [
    {
     "data": {
      "image/jpeg": "[encoded data removed]",
      "text/plain": [
       "<IPython.core.display.Image object>"
      ]
     },
     "metadata": {},
     "output_type": "display_data"
    }
   ],
   "source": [
    "\n",
    "outline = simpleEdge(slice)\n",
    "showarray(outline)\n",
    "\n"
   ]
  },
  {
   "cell_type": "code",
   "execution_count": 27,
   "metadata": {},
   "outputs": [
    {
     "ename": "TypeError",
     "evalue": "openCV_houghlines() got an unexpected keyword argument 'r_res'",
     "output_type": "error",
     "traceback": [
      "\u001b[1;31m---------------------------------------------------------------------------\u001b[0m",
      "\u001b[1;31mTypeError\u001b[0m                                 Traceback (most recent call last)",
      "\u001b[1;32me:\\DEEE\\4th SEM\\SLRC 23\\deploy_scripts\\feature_extractor.ipynb Cell 6\u001b[0m in \u001b[0;36m3\n\u001b[0;32m      <a href='vscode-notebook-cell:/e%3A/DEEE/4th%20SEM/SLRC%2023/deploy_scripts/feature_extractor.ipynb#X10sZmlsZQ%3D%3D?line=0'>1</a>\u001b[0m cdst \u001b[39m=\u001b[39m np\u001b[39m.\u001b[39mcopy(outline)\n\u001b[0;32m      <a href='vscode-notebook-cell:/e%3A/DEEE/4th%20SEM/SLRC%2023/deploy_scripts/feature_extractor.ipynb#X10sZmlsZQ%3D%3D?line=1'>2</a>\u001b[0m \u001b[39m#TODO : Take the parameters here\u001b[39;00m\n\u001b[1;32m----> <a href='vscode-notebook-cell:/e%3A/DEEE/4th%20SEM/SLRC%2023/deploy_scripts/feature_extractor.ipynb#X10sZmlsZQ%3D%3D?line=2'>3</a>\u001b[0m lines_points , height\u001b[39m=\u001b[39m openCV_houghlines(cdst,r_res\u001b[39m=\u001b[39m\u001b[39m1\u001b[39m, theta_res\u001b[39m=\u001b[39mnp\u001b[39m.\u001b[39mpi\u001b[39m/\u001b[39m\u001b[39m180\u001b[39m, int_thresh\u001b[39m=\u001b[39m\u001b[39m50\u001b[39m, l\u001b[39m=\u001b[39m\u001b[39mNone\u001b[39;00m, minPoint_line\u001b[39m=\u001b[39m\u001b[39m25\u001b[39m, maxLine_gap\u001b[39m=\u001b[39m\u001b[39m10\u001b[39m)\n\u001b[0;32m      <a href='vscode-notebook-cell:/e%3A/DEEE/4th%20SEM/SLRC%2023/deploy_scripts/feature_extractor.ipynb#X10sZmlsZQ%3D%3D?line=3'>4</a>\u001b[0m \u001b[39m#print(lines_points)\u001b[39;00m\n\u001b[0;32m      <a href='vscode-notebook-cell:/e%3A/DEEE/4th%20SEM/SLRC%2023/deploy_scripts/feature_extractor.ipynb#X10sZmlsZQ%3D%3D?line=4'>5</a>\u001b[0m lines_Eqns \u001b[39m=\u001b[39m get_lines(lines_points)\n",
      "\u001b[1;31mTypeError\u001b[0m: openCV_houghlines() got an unexpected keyword argument 'r_res'"
     ]
    }
   ],
   "source": [
    "cdst = np.copy(outline)\n",
    "#TODO : Take the parameters here\n",
    "lines_points , height= openCV_houghlines(cdst,r_res=1, theta_res=np.pi/180, int_thresh=50, l=None, minPoint_line=25, maxLine_gap=10)\n",
    "#print(lines_points)\n",
    "lines_Eqns = get_lines(lines_points)\n",
    "showarray(cdst)"
   ]
  },
  {
   "cell_type": "code",
   "execution_count": null,
   "metadata": {},
   "outputs": [],
   "source": [
    "\n",
    "vertices = get_vertices(lines_points)\n",
    "distances = get_distances(lines_Eqns, vertices)\n",
    "dir_vector = get_arrow_vector(lines_Eqns[distances[0]], vertices[distances[1]], height)"
   ]
  },
  {
   "cell_type": "code",
   "execution_count": null,
   "metadata": {},
   "outputs": [],
   "source": [
    "\n",
    "l = lines_points[distances[0]][0]"
   ]
  },
  {
   "cell_type": "code",
   "execution_count": null,
   "metadata": {},
   "outputs": [
    {
     "data": {
      "image/jpeg": "[encoded data removed]",
      "text/plain": [
       "<IPython.core.display.Image object>"
      ]
     },
     "metadata": {},
     "output_type": "display_data"
    }
   ],
   "source": [
    "\n",
    "cv2.line(outline, (l[0],l[1]), (l[2],l[3]), (255,255,255), 5, cv2.LINE_AA)\n",
    "cv2.line(outline, (vertices[distances[1]][0], vertices[distances[1]][1]), ((l[0]+l[2])//2,  (l[1]+l[3])//2), (255,255,255), 5, cv2.LINE_AA)\n",
    "showarray(outline)\n"
   ]
  },
  {
   "cell_type": "code",
   "execution_count": null,
   "metadata": {},
   "outputs": [
    {
     "name": "stdout",
     "output_type": "stream",
     "text": [
      "287.89613292503924\n"
     ]
    }
   ],
   "source": [
    "\n",
    "print(dir_vector)\n"
   ]
  }
 ],
 "metadata": {
  "kernelspec": {
   "display_name": "Python 3",
   "language": "python",
   "name": "python3"
  },
  "language_info": {
   "codemirror_mode": {
    "name": "ipython",
    "version": 3
   },
   "file_extension": ".py",
   "mimetype": "text/x-python",
   "name": "python",
   "nbconvert_exporter": "python",
   "pygments_lexer": "ipython3",
   "version": "3.8.2"
  },
  "orig_nbformat": 4
 },
 "nbformat": 4,
 "nbformat_minor": 2
}
