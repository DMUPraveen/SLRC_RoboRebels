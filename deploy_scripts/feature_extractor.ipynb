{
 "cells": [
  {
   "cell_type": "code",
   "execution_count": 1,
   "metadata": {},
   "outputs": [],
   "source": [
    "from feature_extractor import *\n",
    "from preprocessor import *\n",
    "\n",
    "import matplotlib.pyplot as plt\n",
    "import numpy as np\n"
   ]
  },
  {
   "cell_type": "code",
   "execution_count": 2,
   "metadata": {},
   "outputs": [],
   "source": [
    "#only for ipynb\n",
    "from IPython.display import clear_output, Image, display\n",
    "import PIL.Image\n",
    "import io\n",
    "\n",
    "def showarray(a, fmt='jpeg'):\n",
    "    a = np.uint8(np.clip(a, 0, 255))\n",
    "    f = io.BytesIO()\n",
    "    PIL.Image.fromarray(a).save(f, fmt)\n",
    "    display(Image(data=f.getvalue()))"
   ]
  },
  {
   "cell_type": "code",
   "execution_count": 3,
   "metadata": {},
   "outputs": [
    {
     "data": {
      "image/jpeg": "[encoded data removed]",
      "text/plain": [
       "<IPython.core.display.Image object>"
      ]
     },
     "metadata": {},
     "output_type": "display_data"
    }
   ],
   "source": [
    "filename = 'samples/s8.jpg'\n",
    "src = cv2.imread(filename, cv2.IMREAD_GRAYSCALE)\n",
    "showarray(src)"
   ]
  },
  {
   "cell_type": "code",
   "execution_count": 4,
   "metadata": {},
   "outputs": [
    {
     "name": "stdout",
     "output_type": "stream",
     "text": [
      "(320, 480)\n"
     ]
    },
    {
     "data": {
      "image/jpeg": "[encoded data removed]",
      "text/plain": [
       "<IPython.core.display.Image object>"
      ]
     },
     "metadata": {},
     "output_type": "display_data"
    }
   ],
   "source": [
    "otsu_thresh = applyOtsu(src)\n",
    "kSize = 25\n",
    "src = cv2.GaussianBlur(otsu_thresh,(kSize,kSize),0)\n",
    "print(src.shape)\n",
    "showarray(src)"
   ]
  },
  {
   "cell_type": "code",
   "execution_count": 16,
   "metadata": {},
   "outputs": [
    {
     "name": "stdout",
     "output_type": "stream",
     "text": [
      "0 451 0 43\n"
     ]
    },
    {
     "data": {
      "image/jpeg": "[encoded data removed]",
      "text/plain": [
       "<IPython.core.display.Image object>"
      ]
     },
     "metadata": {},
     "output_type": "display_data"
    }
   ],
   "source": [
    "\n",
    "blobs = extract_blob(src)\n",
    "largestBlob = getLblob(blobs)\n",
    "testy1 = largestBlob.lowerY\n",
    "testy2 = largestBlob.upperY\n",
    "\n",
    "testx1 = largestBlob.lowerX\n",
    "testx2 = largestBlob.upperX\n",
    "print(testx1, testx2, testy1, testy2)\n",
    "slice = make_copy(src,0, testy2, 0, testx2)\n",
    "showarray(slice)"
   ]
  },
  {
   "cell_type": "code",
   "execution_count": 17,
   "metadata": {},
   "outputs": [],
   "source": [
    "#TODO: Make sure to differentiate between the wall and the arrow"
   ]
  },
  {
   "cell_type": "code",
   "execution_count": 18,
   "metadata": {},
   "outputs": [
    {
     "data": {
      "image/jpeg": "[encoded data removed]",
      "text/plain": [
       "<IPython.core.display.Image object>"
      ]
     },
     "metadata": {},
     "output_type": "display_data"
    }
   ],
   "source": [
    "#TODO :add to preprocessor\n",
    "cannyEdge = cv2.Canny(slice, 50, 200, None, 3)\n",
    "outline = cannyEdge \n",
    "showarray(outline)"
   ]
  },
  {
   "cell_type": "code",
   "execution_count": 19,
   "metadata": {},
   "outputs": [],
   "source": [
    "def drawLines(img, lines):\n",
    "    src = np.copy(img)\n",
    "    for i in lines:\n",
    "        cv2.line(src, (i.vertex1[0],img.shape[0]-i.vertex1[1]), (i.vertex2[0],img.shape[0]-i.vertex2[1]), (0,0,0), 3, cv2.LINE_AA)\n",
    "    return src"
   ]
  },
  {
   "cell_type": "code",
   "execution_count": 20,
   "metadata": {},
   "outputs": [
    {
     "name": "stdout",
     "output_type": "stream",
     "text": [
      "453 62 31 55\n",
      "Originally has 2 lines\n",
      "Line from (0,15) to (413,22) with gradenit 0.016949 , intercept 15.000000 and length 413.059318\n"
     ]
    },
    {
     "data": {
      "image/jpeg": "[encoded data removed]",
      "text/plain": [
       "<IPython.core.display.Image object>"
      ]
     },
     "metadata": {},
     "output_type": "display_data"
    }
   ],
   "source": [
    "cdst = np.copy(outline)\n",
    "\n",
    "error_factor = 4\n",
    "image_perimeter = np.where(cdst>0)[0].shape[0]\n",
    "minPoints_in_long_line = int(image_perimeter*float((8-error_factor)/29))\n",
    "intersection_threshold_long = int(0.5*minPoints_in_long_line)\n",
    "max_gap_lines_long = int(0.9*minPoints_in_long_line)\n",
    "\n",
    "print(image_perimeter, minPoints_in_long_line, intersection_threshold_long, max_gap_lines_long)\n",
    "stem_lines, height= openCV_houghlines(cdst, r_res=1, theta_res=np.pi/180, int_thresh=intersection_threshold_long, \\\n",
    "                                  l=None, minPoint_line=minPoints_in_long_line, maxLine_gap=max_gap_lines_long)\n",
    "\n",
    "print(\"Originally has %i lines\"%(len(stem_lines)))\n",
    "#Filter most suitable lines\n",
    "bestFitStem = removeDup_sortLen(stem_lines,0.1,10)[:2]\n",
    "for line in bestFitStem:\n",
    "    line.print_()\n",
    "showarray(cdst)\n"
   ]
  },
  {
   "cell_type": "code",
   "execution_count": 21,
   "metadata": {},
   "outputs": [
    {
     "data": {
      "image/jpeg": "[encoded data removed]",
      "text/plain": [
       "<IPython.core.display.Image object>"
      ]
     },
     "metadata": {},
     "output_type": "display_data"
    }
   ],
   "source": [
    "smImg = drawLines(outline,bestFitStem[:2])\n",
    "showarray(smImg)"
   ]
  },
  {
   "cell_type": "code",
   "execution_count": 22,
   "metadata": {},
   "outputs": [
    {
     "name": "stdout",
     "output_type": "stream",
     "text": [
      "453 15 7 13\n",
      "Originally has 1 lines\n",
      "Line from (424,25) to (435,41) with gradenit 1.454545 , intercept -591.727273 and length 19.416488\n"
     ]
    },
    {
     "data": {
      "image/png": "[encoded data removed]",
      "text/plain": [
       "<Figure size 640x480 with 1 Axes>"
      ]
     },
     "metadata": {},
     "output_type": "display_data"
    },
    {
     "data": {
      "image/jpeg": "[encoded data removed]",
      "text/plain": [
       "<IPython.core.display.Image object>"
      ]
     },
     "metadata": {},
     "output_type": "display_data"
    }
   ],
   "source": [
    "cdst = np.copy(smImg)\n",
    "\n",
    "error_factor = 4\n",
    "minPoints_in_line_short = int(image_perimeter*float((5-error_factor)/29))\n",
    "intersection_threshold_short = int(0.5*minPoints_in_line_short)\n",
    "max_gap_lines_short = int(0.9*minPoints_in_line_short)\n",
    "\n",
    "print(image_perimeter, minPoints_in_line_short, intersection_threshold_short, max_gap_lines_short)\n",
    "head_lines, height= openCV_houghlines(cdst, r_res=1, theta_res=np.pi/180, int_thresh=intersection_threshold_short, \\\n",
    "                                  l=None, minPoint_line=minPoints_in_line_short, maxLine_gap=max_gap_lines_short)\n",
    "\n",
    "print(\"Originally has %i lines\"%(len(head_lines)))\n",
    "#Filter most suitable lines\n",
    "bestFitHead = removeDup_sortLen(head_lines,0.1,10)\n",
    "\n",
    "for line in bestFitHead:\n",
    "    line.print_()\n",
    "plt.imshow(cdst)\n",
    "plt.show()\n",
    "showarray(cdst)"
   ]
  },
  {
   "cell_type": "code",
   "execution_count": 23,
   "metadata": {},
   "outputs": [
    {
     "name": "stdout",
     "output_type": "stream",
     "text": [
      "868.806655220027 58.698484809834994\n",
      "A (array([ 0, 15], dtype=int32), array([413,  22], dtype=int32))\n",
      "180.97102193107915\n"
     ]
    }
   ],
   "source": [
    "ps = np.where(cdst>0)\n",
    "\n",
    "for sLine in bestFitStem:\n",
    "    vertex1_score = 0\n",
    "    vertex2_score = 0\n",
    "    for p_ in range(len(ps)):\n",
    "        point = np.array([ps[1][p_],height-ps[0][p_]])\n",
    "        vertex1_score += np.linalg.norm(sLine.vertex1-point)\n",
    "        vertex2_score += np.linalg.norm(sLine.vertex2-point)\n",
    "    print(vertex1_score, vertex2_score)\n",
    "    if vertex1_score>vertex2_score:\n",
    "        print('A',(sLine.vertex1,sLine.vertex2))\n",
    "        b = bearing(sLine.vertex2[0],sLine.vertex2[1],sLine.vertex1[0],sLine.vertex1[1])\n",
    "    else:\n",
    "        print('B', (sLine.vertex2,sLine.vertex1))\n",
    "        b = bearing(sLine.vertex1[0], sLine.vertex1[1],sLine.vertex2[0],sLine.vertex2[1])\n",
    "    print(b)\n"
   ]
  },
  {
   "cell_type": "code",
   "execution_count": 24,
   "metadata": {},
   "outputs": [
    {
     "data": {
      "text/plain": [
       "48.91315952498741"
      ]
     },
     "execution_count": 24,
     "metadata": {},
     "output_type": "execute_result"
    }
   ],
   "source": [
    "bearing(21,47,164,211)"
   ]
  },
  {
   "attachments": {},
   "cell_type": "markdown",
   "metadata": {},
   "source": [
    "Long Lines Here"
   ]
  },
  {
   "attachments": {},
   "cell_type": "markdown",
   "metadata": {},
   "source": [
    "cdst = np.copy(outline)\n",
    "\n",
    "lines_points , height= openCV_houghlines(cdst, r_res=1, theta_res=np.pi/180, int_thresh=60, l=None, minPoint_line=20, maxLine_gap=150)\n",
    "#print(lines_points)\n",
    "lines_Eqns = get_lines(lines_points)\n",
    "print(\"lines detected: \", len(lines_points))\n",
    "showarray(cdst)"
   ]
  },
  {
   "attachments": {},
   "cell_type": "markdown",
   "metadata": {},
   "source": [
    "Debug the short line distances here"
   ]
  },
  {
   "cell_type": "code",
   "execution_count": 25,
   "metadata": {},
   "outputs": [],
   "source": [
    "\n",
    "for i in range(len(bestFitHead)):\n",
    "    for j in range(i+1, len(bestFitHead)):\n",
    "        x = intersects(cdst.shape, bestFitHead[i], bestFitHead[j])\n",
    "        if x[0]==True:\n",
    "            bestFitHead[i].print_()            \n",
    "            bestFitHead[j].print_()\n",
    "            vertex = x[1]"
   ]
  },
  {
   "cell_type": "code",
   "execution_count": 26,
   "metadata": {},
   "outputs": [
    {
     "ename": "IndexError",
     "evalue": "list index out of range",
     "output_type": "error",
     "traceback": [
      "\u001b[1;31m---------------------------------------------------------------------------\u001b[0m",
      "\u001b[1;31mIndexError\u001b[0m                                Traceback (most recent call last)",
      "\u001b[1;32me:\\DEEE\\4th SEM\\SLRC 23\\root\\deploy_scripts\\feature_extractor.ipynb Cell 18\u001b[0m in \u001b[0;36m1\n\u001b[1;32m----> <a href='vscode-notebook-cell:/e%3A/DEEE/4th%20SEM/SLRC%2023/root/deploy_scripts/feature_extractor.ipynb#X23sZmlsZQ%3D%3D?line=0'>1</a>\u001b[0m midpoint \u001b[39m=\u001b[39m (bestFitStem[\u001b[39m0\u001b[39m]\u001b[39m.\u001b[39mget_midpoint()\u001b[39m+\u001b[39mbestFitStem[\u001b[39m1\u001b[39m]\u001b[39m.\u001b[39mget_midpoint())\u001b[39m/\u001b[39m\u001b[39m2\u001b[39m\n\u001b[0;32m      <a href='vscode-notebook-cell:/e%3A/DEEE/4th%20SEM/SLRC%2023/root/deploy_scripts/feature_extractor.ipynb#X23sZmlsZQ%3D%3D?line=1'>2</a>\u001b[0m \u001b[39mprint\u001b[39m(midpoint)\n\u001b[0;32m      <a href='vscode-notebook-cell:/e%3A/DEEE/4th%20SEM/SLRC%2023/root/deploy_scripts/feature_extractor.ipynb#X23sZmlsZQ%3D%3D?line=2'>3</a>\u001b[0m \u001b[39mprint\u001b[39m(bearing(midpoint[\u001b[39m0\u001b[39m],midpoint[\u001b[39m1\u001b[39m],vertex[\u001b[39m0\u001b[39m],vertex[\u001b[39m1\u001b[39m]))\n",
      "\u001b[1;31mIndexError\u001b[0m: list index out of range"
     ]
    }
   ],
   "source": [
    "midpoint = (bestFitStem[0].get_midpoint()+bestFitStem[1].get_midpoint())/2\n",
    "print(midpoint)\n",
    "print(bearing(midpoint[0],midpoint[1],vertex[0],vertex[1]))"
   ]
  },
  {
   "cell_type": "code",
   "execution_count": null,
   "metadata": {},
   "outputs": [
    {
     "data": {
      "image/png": "[encoded data removed]",
      "text/plain": [
       "<Figure size 640x480 with 1 Axes>"
      ]
     },
     "metadata": {},
     "output_type": "display_data"
    }
   ],
   "source": [
    "import matplotlib.pyplot as plt\n",
    "import numpy as np\n",
    "\n",
    "\n",
    "\n",
    "x_points=  list(ps[1])\n",
    "y_points = list(height-ps[0])\n",
    "\n",
    "plt.scatter(x_points, y_points, color='blue')\n",
    "\n",
    "x_points = []\n",
    "y_points = []\n",
    "\n",
    "for l in bestFitHead:\n",
    "    x_points.append(l.vertex1[0])\n",
    "    x_points.append(l.vertex2[0])\n",
    "    y_points.append(l.vertex1[1])\n",
    "    y_points.append(l.vertex2[1])\n",
    "\n",
    "plt.scatter(x_points, y_points, color='red')\n",
    "\n",
    "x = np.linspace(0, 300, 100)\n",
    "\n",
    "for l in bestFitHead:\n",
    "    y = l.get_gradient() * x + l.get_intercept()\n",
    "    plt.plot(x,y)\n",
    "\n",
    "\n",
    "# plt.ylim(-30,height)\n",
    "# plt.xlim(0,400)\n",
    "plt.xlabel('X-axis')\n",
    "plt.ylabel('Y-axis')\n",
    "plt.title('Graph of lines')\n",
    "plt.show()\n"
   ]
  }
 ],
 "metadata": {
  "kernelspec": {
   "display_name": "Python 3",
   "language": "python",
   "name": "python3"
  },
  "language_info": {
   "codemirror_mode": {
    "name": "ipython",
    "version": 3
   },
   "file_extension": ".py",
   "mimetype": "text/x-python",
   "name": "python",
   "nbconvert_exporter": "python",
   "pygments_lexer": "ipython3",
   "version": "3.8.2"
  },
  "orig_nbformat": 4
 },
 "nbformat": 4,
 "nbformat_minor": 2
}
